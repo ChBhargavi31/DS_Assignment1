{
 "cells": [
  {
   "cell_type": "code",
   "execution_count": 79,
   "id": "927b7503",
   "metadata": {},
   "outputs": [],
   "source": [
    "import numpy as np\n",
    "import pandas as pd\n",
    "import matplotlib.pyplot as plt"
   ]
  },
  {
   "cell_type": "code",
   "execution_count": 80,
   "id": "13d9e03f",
   "metadata": {},
   "outputs": [
    {
     "name": "stdout",
     "output_type": "stream",
     "text": [
      "1D array\n",
      "[2 4 6 8]\n"
     ]
    }
   ],
   "source": [
    "arr1=np.array([2,4,6,8])#creating 1 dimentional array\n",
    "print(\"1D array\")\n",
    "print(arr1)"
   ]
  },
  {
   "cell_type": "code",
   "execution_count": 81,
   "id": "c706be0a",
   "metadata": {},
   "outputs": [
    {
     "name": "stdout",
     "output_type": "stream",
     "text": [
      "1D array\n",
      "[1 2 3 4]\n"
     ]
    }
   ],
   "source": [
    "arr2=np.array([1,2,3,4])#creating 1 dimentional array\n",
    "print(\"1D array\")\n",
    "print(arr2)"
   ]
  },
  {
   "cell_type": "code",
   "execution_count": 82,
   "id": "1642367b",
   "metadata": {},
   "outputs": [
    {
     "name": "stdout",
     "output_type": "stream",
     "text": [
      "sum: [ 3  6  9 12]\n"
     ]
    }
   ],
   "source": [
    "arr_sum=arr1+arr2#sum of 1 dimentional arrays\n",
    "print(\"sum:\",arr_sum)"
   ]
  },
  {
   "cell_type": "code",
   "execution_count": 83,
   "id": "86bc2fc6",
   "metadata": {},
   "outputs": [
    {
     "name": "stdout",
     "output_type": "stream",
     "text": [
      "2D array\n",
      "[[1 2 3]\n",
      " [4 5 6]]\n"
     ]
    }
   ],
   "source": [
    "arr3=np.array([[1,2,3],[4,5,6]])#creating 2 dimentional array\n",
    "print(\"2D array\")\n",
    "print(arr3)"
   ]
  },
  {
   "cell_type": "code",
   "execution_count": 84,
   "id": "bae11ee1",
   "metadata": {},
   "outputs": [
    {
     "name": "stdout",
     "output_type": "stream",
     "text": [
      "2D array\n",
      "[[5 7 3]\n",
      " [4 8 6]]\n"
     ]
    }
   ],
   "source": [
    "arr4=np.array([[5,7,3],[4,8,6]])#creating 2 dimentional array\n",
    "print(\"2D array\")\n",
    "print(arr4)"
   ]
  },
  {
   "cell_type": "code",
   "execution_count": 85,
   "id": "b91be1a0",
   "metadata": {},
   "outputs": [
    {
     "name": "stdout",
     "output_type": "stream",
     "text": [
      "sum: [[ 6  9  6]\n",
      " [ 8 13 12]]\n"
     ]
    }
   ],
   "source": [
    "arr_sum1=arr3+arr4#sum of 2 dimentional arrays\n",
    "print(\"sum:\",arr_sum1)"
   ]
  },
  {
   "cell_type": "code",
   "execution_count": 86,
   "id": "757a3f2d",
   "metadata": {},
   "outputs": [
    {
     "name": "stdout",
     "output_type": "stream",
     "text": [
      "subtraction: [1 2 3 4]\n"
     ]
    }
   ],
   "source": [
    "arr_sub=arr1-arr2#subtraction of 1 dimentional arrays\n",
    "print(\"subtraction:\",arr_sub)"
   ]
  },
  {
   "cell_type": "code",
   "execution_count": 87,
   "id": "8a434054",
   "metadata": {},
   "outputs": [
    {
     "name": "stdout",
     "output_type": "stream",
     "text": [
      "subtraction: [[-4 -5  0]\n",
      " [ 0 -3  0]]\n"
     ]
    }
   ],
   "source": [
    "arr_sub1=arr3-arr4#subtraction of 2 dimentional arrays\n",
    "print(\"subtraction:\",arr_sub1)"
   ]
  },
  {
   "cell_type": "code",
   "execution_count": 88,
   "id": "42d08069",
   "metadata": {},
   "outputs": [
    {
     "name": "stdout",
     "output_type": "stream",
     "text": [
      "multiplication: [ 2  8 18 32]\n"
     ]
    }
   ],
   "source": [
    "arr_mul=arr1*arr2#multiplication of 1 dimentional arrays\n",
    "print(\"multiplication:\",arr_mul)"
   ]
  },
  {
   "cell_type": "code",
   "execution_count": 89,
   "id": "f61dcc0f",
   "metadata": {},
   "outputs": [
    {
     "name": "stdout",
     "output_type": "stream",
     "text": [
      "multiplication: [[ 5 14  9]\n",
      " [16 40 36]]\n"
     ]
    }
   ],
   "source": [
    "arr_mul1=arr3*arr4#multiplication of 2 dimentional arrays\n",
    "print(\"multiplication:\",arr_mul1)"
   ]
  },
  {
   "cell_type": "code",
   "execution_count": 90,
   "id": "ea79a963",
   "metadata": {},
   "outputs": [
    {
     "name": "stdout",
     "output_type": "stream",
     "text": [
      "division: [2. 2. 2. 2.]\n"
     ]
    }
   ],
   "source": [
    "arr_div=arr1/arr2#Division of 1 dimentional arrays\n",
    "print(\"division:\",arr_div)"
   ]
  },
  {
   "cell_type": "code",
   "execution_count": 91,
   "id": "ddc2de6d",
   "metadata": {},
   "outputs": [
    {
     "name": "stdout",
     "output_type": "stream",
     "text": [
      "division: [[5.  3.5 1. ]\n",
      " [1.  1.6 1. ]]\n"
     ]
    }
   ],
   "source": [
    "arr_div1=arr4/arr3#Division of 2 dimentional arrays\n",
    "print(\"division:\",arr_div1)"
   ]
  },
  {
   "cell_type": "code",
   "execution_count": 92,
   "id": "58a946ab",
   "metadata": {},
   "outputs": [
    {
     "name": "stdout",
     "output_type": "stream",
     "text": [
      "modulus: [0 0 0 0]\n"
     ]
    }
   ],
   "source": [
    "arr_mod=arr1%arr2#modulo of 1 dimentional arrays\n",
    "print(\"modulus:\",arr_mod)"
   ]
  },
  {
   "cell_type": "code",
   "execution_count": 93,
   "id": "338ddc9d",
   "metadata": {},
   "outputs": [
    {
     "name": "stdout",
     "output_type": "stream",
     "text": [
      "modulus: [[0 1 0]\n",
      " [0 3 0]]\n"
     ]
    }
   ],
   "source": [
    "arr_mod1=arr4%arr3#modulo of 2 dimentional arrays\n",
    "print(\"modulus:\",arr_mod1)"
   ]
  },
  {
   "cell_type": "code",
   "execution_count": 94,
   "id": "d7b88d7a",
   "metadata": {},
   "outputs": [
    {
     "name": "stdout",
     "output_type": "stream",
     "text": [
      "square of array: [ 4 16 36 64]\n"
     ]
    }
   ],
   "source": [
    "square=arr1**2#square of 1 dimentional array\n",
    "print(\"square of array:\",square)"
   ]
  },
  {
   "cell_type": "code",
   "execution_count": 95,
   "id": "939e0053",
   "metadata": {},
   "outputs": [
    {
     "name": "stdout",
     "output_type": "stream",
     "text": [
      "square of array: [[ 1  4  9]\n",
      " [16 25 36]]\n"
     ]
    }
   ],
   "source": [
    "square1=arr3**2#square of 2 dimentional array\n",
    "print(\"square of array:\",square1)"
   ]
  },
  {
   "cell_type": "code",
   "execution_count": 96,
   "id": "76efd98c",
   "metadata": {},
   "outputs": [
    {
     "name": "stdout",
     "output_type": "stream",
     "text": [
      "     Pregnancies  Glucose  BloodPressure  SkinThickness  Insulin   BMI  \\\n",
      "0              6      148             72             35        0  33.6   \n",
      "1              1       85             66             29        0  26.6   \n",
      "2              8      183             64              0        0  23.3   \n",
      "3              1       89             66             23       94  28.1   \n",
      "4              0      137             40             35      168  43.1   \n",
      "..           ...      ...            ...            ...      ...   ...   \n",
      "763           10      101             76             48      180  32.9   \n",
      "764            2      122             70             27        0  36.8   \n",
      "765            5      121             72             23      112  26.2   \n",
      "766            1      126             60              0        0  30.1   \n",
      "767            1       93             70             31        0  30.4   \n",
      "\n",
      "     DiabetesPedigreeFunction  Age  Outcome  \n",
      "0                       0.627   50        1  \n",
      "1                       0.351   31        0  \n",
      "2                       0.672   32        1  \n",
      "3                       0.167   21        0  \n",
      "4                       2.288   33        1  \n",
      "..                        ...  ...      ...  \n",
      "763                     0.171   63        0  \n",
      "764                     0.340   27        0  \n",
      "765                     0.245   30        0  \n",
      "766                     0.349   47        1  \n",
      "767                     0.315   23        0  \n",
      "\n",
      "[768 rows x 9 columns]\n"
     ]
    }
   ],
   "source": [
    "import pandas as pd\n",
    "df = pd.read_excel(r'C:\\Users\\DELL\\Downloads\\diabetes.xlsx')\n",
    "print(df)"
   ]
  },
  {
   "cell_type": "code",
   "execution_count": 97,
   "id": "1eacd7e0",
   "metadata": {},
   "outputs": [
    {
     "name": "stdout",
     "output_type": "stream",
     "text": [
      "\n",
      "Sorted DataFrame:\n",
      "     Pregnancies  Glucose  BloodPressure  SkinThickness  Insulin   BMI  \\\n",
      "255            1      113             64             35        0  33.6   \n",
      "60             2       84              0              0        0   0.0   \n",
      "102            0      125             96              0        0  22.5   \n",
      "182            1        0             74             20       23  27.7   \n",
      "623            0       94             70             27      115  43.5   \n",
      "..           ...      ...            ...            ...      ...   ...   \n",
      "123            5      132             80              0        0  26.8   \n",
      "684            5      136             82              0        0   0.0   \n",
      "666            4      145             82             18        0  32.5   \n",
      "453            2      119              0              0        0  19.6   \n",
      "459            9      134             74             33       60  25.9   \n",
      "\n",
      "     DiabetesPedigreeFunction  Age  Outcome  \n",
      "255                     0.543   21        1  \n",
      "60                      0.304   21        0  \n",
      "102                     0.262   21        0  \n",
      "182                     0.299   21        0  \n",
      "623                     0.347   21        0  \n",
      "..                        ...  ...      ...  \n",
      "123                     0.186   69        0  \n",
      "684                     0.640   69        0  \n",
      "666                     0.235   70        1  \n",
      "453                     0.832   72        0  \n",
      "459                     0.460   81        0  \n",
      "\n",
      "[768 rows x 9 columns]\n"
     ]
    }
   ],
   "source": [
    "sorted_df = df.sort_values('Age')#sorting\n",
    "print(\"\\nSorted DataFrame:\")\n",
    "print(sorted_df)"
   ]
  },
  {
   "cell_type": "code",
   "execution_count": 98,
   "id": "15a4d6f1",
   "metadata": {},
   "outputs": [
    {
     "name": "stdout",
     "output_type": "stream",
     "text": [
      "\n",
      "Filtered DataFrame:\n",
      "     Pregnancies  Glucose  BloodPressure  SkinThickness  Insulin   BMI  \\\n",
      "12            10      139             80              0        0  27.1   \n",
      "13             1      189             60             23      846  30.1   \n",
      "28            13      145             82             19      110  22.2   \n",
      "30             5      109             75             26        0  36.0   \n",
      "39             4      111             72             47      207  37.1   \n",
      "53             8      176             90             34      300  33.7   \n",
      "93             4      134             72              0        0  23.8   \n",
      "115            4      146             92              0        0  31.2   \n",
      "123            5      132             80              0        0  26.8   \n",
      "129            0      105             84              0        0  27.9   \n",
      "148            5      147             78              0        0  33.7   \n",
      "186            8      181             68             36      495  30.1   \n",
      "206            8      196             76             29      280  37.5   \n",
      "212            7      179             95             31        0  34.2   \n",
      "221            2      158             90              0        0  31.6   \n",
      "223            7      142             60             33      190  28.8   \n",
      "263            3      142             80             15        0  32.4   \n",
      "278            5      114             74              0        0  24.9   \n",
      "294            0      161             50              0        0  21.9   \n",
      "299            8      112             72              0        0  23.6   \n",
      "319            6      194             78              0        0  23.5   \n",
      "344            8       95             72              0        0  36.8   \n",
      "361            5      158             70              0        0  29.8   \n",
      "362            5      103            108             37        0  39.2   \n",
      "363            4      146             78              0        0  38.5   \n",
      "375           12      140             82             43      325  39.2   \n",
      "388            5      144             82             26      285  32.0   \n",
      "453            2      119              0              0        0  19.6   \n",
      "456            1      135             54              0        0  26.7   \n",
      "459            9      134             74             33       60  25.9   \n",
      "475            0      137             84             27        0  27.3   \n",
      "479            4      132             86             31        0  28.0   \n",
      "487            0      173             78             32      265  46.5   \n",
      "489            8      194             80              0        0  26.1   \n",
      "495            6      166             74              0        0  26.6   \n",
      "509            8      120             78              0        0  25.0   \n",
      "512            9       91             68              0        0  24.2   \n",
      "519            6      129             90              7      326  19.6   \n",
      "537            0       57             60              0        0  21.7   \n",
      "542           10       90             85             32        0  34.9   \n",
      "552            6      114             88              0        0  27.8   \n",
      "557            8      110             76              0        0  27.8   \n",
      "579            2      197             70             99        0  34.7   \n",
      "582           12      121             78             17        0  26.5   \n",
      "666            4      145             82             18        0  32.5   \n",
      "674            8       91             82              0        0  35.6   \n",
      "684            5      136             82              0        0   0.0   \n",
      "717           10       94             72             18        0  23.1   \n",
      "759            6      190             92              0        0  35.5   \n",
      "763           10      101             76             48      180  32.9   \n",
      "\n",
      "     DiabetesPedigreeFunction  Age  Outcome  \n",
      "12                      1.441   57        0  \n",
      "13                      0.398   59        1  \n",
      "28                      0.245   57        0  \n",
      "30                      0.546   60        0  \n",
      "39                      1.390   56        1  \n",
      "53                      0.467   58        1  \n",
      "93                      0.277   60        1  \n",
      "115                     0.539   61        1  \n",
      "123                     0.186   69        0  \n",
      "129                     0.741   62        1  \n",
      "148                     0.218   65        0  \n",
      "186                     0.615   60        1  \n",
      "206                     0.605   57        1  \n",
      "212                     0.164   60        0  \n",
      "221                     0.805   66        1  \n",
      "223                     0.687   61        0  \n",
      "263                     0.200   63        0  \n",
      "278                     0.744   57        0  \n",
      "294                     0.254   65        0  \n",
      "299                     0.840   58        0  \n",
      "319                     0.129   59        1  \n",
      "344                     0.485   57        0  \n",
      "361                     0.207   63        0  \n",
      "362                     0.305   65        0  \n",
      "363                     0.520   67        1  \n",
      "375                     0.528   58        1  \n",
      "388                     0.452   58        1  \n",
      "453                     0.832   72        0  \n",
      "456                     0.687   62        0  \n",
      "459                     0.460   81        0  \n",
      "475                     0.231   59        0  \n",
      "479                     0.419   63        0  \n",
      "487                     1.159   58        0  \n",
      "489                     0.551   67        0  \n",
      "495                     0.304   66        0  \n",
      "509                     0.409   64        0  \n",
      "512                     0.200   58        0  \n",
      "519                     0.582   60        0  \n",
      "537                     0.735   67        0  \n",
      "542                     0.825   56        1  \n",
      "552                     0.247   66        0  \n",
      "557                     0.237   58        0  \n",
      "579                     0.575   62        1  \n",
      "582                     0.259   62        0  \n",
      "666                     0.235   70        1  \n",
      "674                     0.587   68        0  \n",
      "684                     0.640   69        0  \n",
      "717                     0.595   56        0  \n",
      "759                     0.278   66        1  \n",
      "763                     0.171   63        0  \n"
     ]
    }
   ],
   "source": [
    "filtered_df = df[df['Age'] > 55]#filtering\n",
    "print(\"\\nFiltered DataFrame:\")\n",
    "print(filtered_df)"
   ]
  },
  {
   "cell_type": "code",
   "execution_count": 99,
   "id": "d664b358",
   "metadata": {},
   "outputs": [
    {
     "name": "stdout",
     "output_type": "stream",
     "text": [
      "\n",
      "Column 'Pregnancies':\n",
      "0       6\n",
      "1       1\n",
      "2       8\n",
      "3       1\n",
      "4       0\n",
      "       ..\n",
      "763    10\n",
      "764     2\n",
      "765     5\n",
      "766     1\n",
      "767     1\n",
      "Name: Pregnancies, Length: 768, dtype: int64\n"
     ]
    }
   ],
   "source": [
    "print(\"\\nColumn 'Pregnancies':\")\n",
    "print(df['Pregnancies'])"
   ]
  },
  {
   "cell_type": "code",
   "execution_count": 100,
   "id": "c5b126d7",
   "metadata": {},
   "outputs": [
    {
     "name": "stdout",
     "output_type": "stream",
     "text": [
      "\n",
      "Missing Values:\n",
      "Pregnancies                 0\n",
      "Glucose                     0\n",
      "BloodPressure               0\n",
      "SkinThickness               0\n",
      "Insulin                     0\n",
      "BMI                         0\n",
      "DiabetesPedigreeFunction    0\n",
      "Age                         0\n",
      "Outcome                     0\n",
      "dtype: int64\n"
     ]
    }
   ],
   "source": [
    "print(\"\\nMissing Values:\")#finding missing values\n",
    "print(df.isnull().sum())"
   ]
  },
  {
   "cell_type": "code",
   "execution_count": 101,
   "id": "6b309d83",
   "metadata": {},
   "outputs": [
    {
     "name": "stdout",
     "output_type": "stream",
     "text": [
      "\n",
      "Row 1:\n",
      "Pregnancies                   8.000\n",
      "Glucose                     183.000\n",
      "BloodPressure                64.000\n",
      "SkinThickness                 0.000\n",
      "Insulin                       0.000\n",
      "BMI                          23.300\n",
      "DiabetesPedigreeFunction      0.672\n",
      "Age                          32.000\n",
      "Outcome                       1.000\n",
      "Name: 2, dtype: float64\n"
     ]
    }
   ],
   "source": [
    "print(\"\\nRow 1:\")#accessing values of a particular location\n",
    "print(df.loc[2])"
   ]
  },
  {
   "cell_type": "code",
   "execution_count": 102,
   "id": "786acdec",
   "metadata": {},
   "outputs": [
    {
     "name": "stdout",
     "output_type": "stream",
     "text": [
      "\n",
      "Basic Statistics:\n",
      "       Pregnancies     Glucose  BloodPressure  SkinThickness     Insulin  \\\n",
      "count   768.000000  768.000000     768.000000     768.000000  768.000000   \n",
      "mean      3.845052  120.894531      69.105469      20.536458   79.799479   \n",
      "std       3.369578   31.972618      19.355807      15.952218  115.244002   \n",
      "min       0.000000    0.000000       0.000000       0.000000    0.000000   \n",
      "25%       1.000000   99.000000      62.000000       0.000000    0.000000   \n",
      "50%       3.000000  117.000000      72.000000      23.000000   30.500000   \n",
      "75%       6.000000  140.250000      80.000000      32.000000  127.250000   \n",
      "max      17.000000  199.000000     122.000000      99.000000  846.000000   \n",
      "\n",
      "              BMI  DiabetesPedigreeFunction         Age     Outcome  \n",
      "count  768.000000                768.000000  768.000000  768.000000  \n",
      "mean    31.992578                  0.471876   33.240885    0.348958  \n",
      "std      7.884160                  0.331329   11.760232    0.476951  \n",
      "min      0.000000                  0.078000   21.000000    0.000000  \n",
      "25%     27.300000                  0.243750   24.000000    0.000000  \n",
      "50%     32.000000                  0.372500   29.000000    0.000000  \n",
      "75%     36.600000                  0.626250   41.000000    1.000000  \n",
      "max     67.100000                  2.420000   81.000000    1.000000  \n"
     ]
    }
   ],
   "source": [
    "print(\"\\nBasic Statistics:\")\n",
    "print(df.describe())"
   ]
  },
  {
   "cell_type": "code",
   "execution_count": 103,
   "id": "3fb5d038",
   "metadata": {},
   "outputs": [
    {
     "name": "stdout",
     "output_type": "stream",
     "text": [
      "\n",
      "DataFrame with column removed:\n",
      "     Pregnancies  Glucose  BloodPressure  SkinThickness  Insulin   BMI  Age  \\\n",
      "0              6      148             72             35        0  33.6   50   \n",
      "1              1       85             66             29        0  26.6   31   \n",
      "2              8      183             64              0        0  23.3   32   \n",
      "3              1       89             66             23       94  28.1   21   \n",
      "4              0      137             40             35      168  43.1   33   \n",
      "..           ...      ...            ...            ...      ...   ...  ...   \n",
      "763           10      101             76             48      180  32.9   63   \n",
      "764            2      122             70             27        0  36.8   27   \n",
      "765            5      121             72             23      112  26.2   30   \n",
      "766            1      126             60              0        0  30.1   47   \n",
      "767            1       93             70             31        0  30.4   23   \n",
      "\n",
      "     Outcome  \n",
      "0          1  \n",
      "1          0  \n",
      "2          1  \n",
      "3          0  \n",
      "4          1  \n",
      "..       ...  \n",
      "763        0  \n",
      "764        0  \n",
      "765        0  \n",
      "766        1  \n",
      "767        0  \n",
      "\n",
      "[768 rows x 8 columns]\n"
     ]
    }
   ],
   "source": [
    "df = df.drop('DiabetesPedigreeFunction', axis=1)\n",
    "print(\"\\nDataFrame with column removed:\")\n",
    "print(df)"
   ]
  },
  {
   "cell_type": "code",
   "execution_count": 104,
   "id": "086cf394",
   "metadata": {},
   "outputs": [
    {
     "name": "stdout",
     "output_type": "stream",
     "text": [
      "\n",
      "Grouped DataFrame:\n",
      "         Pregnancies     Glucose  BloodPressure  SkinThickness        BMI  \\\n",
      "Insulin                                                                     \n",
      "0           4.433155  119.409091      67.473262      11.508021  30.943316   \n",
      "14          0.000000  180.000000      78.000000      63.000000  59.400000   \n",
      "15          2.000000   68.000000      62.000000      13.000000  20.100000   \n",
      "16          2.000000   88.000000      58.000000      26.000000  28.400000   \n",
      "18          2.000000   91.000000      65.000000      30.500000  36.450000   \n",
      "...              ...         ...            ...            ...        ...   \n",
      "579         1.000000  172.000000      68.000000      49.000000  42.400000   \n",
      "600         8.000000  124.000000      76.000000      24.000000  28.700000   \n",
      "680         0.000000  165.000000      90.000000      33.000000  52.300000   \n",
      "744         4.000000  197.000000      70.000000      39.000000  36.700000   \n",
      "846         1.000000  189.000000      60.000000      23.000000  30.100000   \n",
      "\n",
      "               Age   Outcome  \n",
      "Insulin                       \n",
      "0        35.796791  0.368984  \n",
      "14       25.000000  1.000000  \n",
      "15       23.000000  0.000000  \n",
      "16       22.000000  0.000000  \n",
      "18       23.000000  0.000000  \n",
      "...            ...       ...  \n",
      "579      28.000000  1.000000  \n",
      "600      52.000000  1.000000  \n",
      "680      23.000000  0.000000  \n",
      "744      31.000000  0.000000  \n",
      "846      59.000000  1.000000  \n",
      "\n",
      "[186 rows x 7 columns]\n"
     ]
    }
   ],
   "source": [
    "grouped_df = df.groupby('Insulin').mean()\n",
    "print(\"\\nGrouped DataFrame:\")\n",
    "print(grouped_df)"
   ]
  },
  {
   "cell_type": "code",
   "execution_count": 105,
   "id": "5e0d2a23",
   "metadata": {},
   "outputs": [],
   "source": [
    "\n",
    "import matplotlib.pyplot as plt\n",
    "import numpy as np"
   ]
  },
  {
   "cell_type": "code",
   "execution_count": 106,
   "id": "c4ee89bf",
   "metadata": {},
   "outputs": [
    {
     "name": "stdout",
     "output_type": "stream",
     "text": [
      "     Pregnancies  Glucose  BloodPressure  SkinThickness  Insulin   BMI  \\\n",
      "0              6      148             72             35        0  33.6   \n",
      "1              1       85             66             29        0  26.6   \n",
      "2              8      183             64              0        0  23.3   \n",
      "3              1       89             66             23       94  28.1   \n",
      "4              0      137             40             35      168  43.1   \n",
      "..           ...      ...            ...            ...      ...   ...   \n",
      "763           10      101             76             48      180  32.9   \n",
      "764            2      122             70             27        0  36.8   \n",
      "765            5      121             72             23      112  26.2   \n",
      "766            1      126             60              0        0  30.1   \n",
      "767            1       93             70             31        0  30.4   \n",
      "\n",
      "     DiabetesPedigreeFunction  Age  Outcome  \n",
      "0                       0.627   50        1  \n",
      "1                       0.351   31        0  \n",
      "2                       0.672   32        1  \n",
      "3                       0.167   21        0  \n",
      "4                       2.288   33        1  \n",
      "..                        ...  ...      ...  \n",
      "763                     0.171   63        0  \n",
      "764                     0.340   27        0  \n",
      "765                     0.245   30        0  \n",
      "766                     0.349   47        1  \n",
      "767                     0.315   23        0  \n",
      "\n",
      "[768 rows x 9 columns]\n"
     ]
    }
   ],
   "source": [
    "df = pd.read_excel(r'C:\\Users\\DELL\\Downloads\\diabetes.xlsx')\n",
    "print(df)"
   ]
  },
  {
   "cell_type": "code",
   "execution_count": 107,
   "id": "c61f1799",
   "metadata": {},
   "outputs": [],
   "source": [
    "x=['Pregnancies','Glucose','BloodPressure','SkinThickness','Insulin','BMI','DiabetesPedigreeFunction']\n",
    "y=[3,117,72,23,30,32,0.37]"
   ]
  },
  {
   "cell_type": "code",
   "execution_count": 108,
   "id": "8b24865a",
   "metadata": {},
   "outputs": [
    {
     "data": {
      "image/png": "[encoded data removed]",
      "text/plain": [
       "<Figure size 640x480 with 1 Axes>"
      ]
     },
     "metadata": {},
     "output_type": "display_data"
    }
   ],
   "source": [
    "plt.bar(x, y)\n",
    "plt.title(\"Bar Plot\")\n",
    "plt.xlabel(\"Health issue\")\n",
    "plt.ylabel(\"average cases\")\n",
    "plt.show()"
   ]
  },
  {
   "cell_type": "code",
   "execution_count": null,
   "id": "5482a0d9",
   "metadata": {},
   "outputs": [],
   "source": []
  },
  {
   "cell_type": "code",
   "execution_count": null,
   "id": "3babd937",
   "metadata": {},
   "outputs": [],
   "source": []
  }
 ],
 "metadata": {
  "kernelspec": {
   "display_name": "Python 3 (ipykernel)",
   "language": "python",
   "name": "python3"
  },
  "language_info": {
   "codemirror_mode": {
    "name": "ipython",
    "version": 3
   },
   "file_extension": ".py",
   "mimetype": "text/x-python",
   "name": "python",
   "nbconvert_exporter": "python",
   "pygments_lexer": "ipython3",
   "version": "3.10.9"
  }
 },
 "nbformat": 4,
 "nbformat_minor": 5
}
